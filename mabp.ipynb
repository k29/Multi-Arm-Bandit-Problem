{
 "cells": [
  {
   "cell_type": "code",
   "execution_count": 4,
   "metadata": {},
   "outputs": [
    {
     "name": "stdout",
     "output_type": "stream",
     "text": [
      "Populating the interactive namespace from numpy and matplotlib\n"
     ]
    },
    {
     "name": "stderr",
     "output_type": "stream",
     "text": [
      "/Users/kaustubh.n/anaconda3/lib/python3.6/site-packages/IPython/core/magics/pylab.py:160: UserWarning: pylab import has clobbered these variables: ['e']\n",
      "`%matplotlib` prevents importing * from pylab and numpy\n",
      "  \"\\n`%matplotlib` prevents importing * from pylab and numpy\"\n"
     ]
    }
   ],
   "source": [
    "%pylab inline \n",
    "%load_ext autoreload\n",
    "%autoreload 2\n",
    "\n",
    "import numpy as np \n",
    "import random\n",
    "np.set_printoptions(suppress=True)"
   ]
  },
  {
   "cell_type": "code",
   "execution_count": 2,
   "metadata": {},
   "outputs": [
    {
     "data": {
      "image/png": "[encoded data removed]",
      "text/plain": [
       "<Figure size 432x288 with 1 Axes>"
      ]
     },
     "metadata": {},
     "output_type": "display_data"
    },
    {
     "data": {
      "text/plain": [
       "(array([  2.,  20.,  62., 157., 209., 231., 195.,  88.,  29.,   7.]),\n",
       " array([-0.32415416, -0.26209366, -0.20003316, -0.13797266, -0.07591216,\n",
       "        -0.01385166,  0.04820884,  0.11026934,  0.17232984,  0.23439034,\n",
       "         0.29645084]),\n",
       " <a list of 10 Patch objects>)"
      ]
     },
     "execution_count": 2,
     "metadata": {},
     "output_type": "execute_result"
    },
    {
     "data": {
      "image/png": "[encoded data removed]",
      "text/plain": [
       "<Figure size 432x288 with 1 Axes>"
      ]
     },
     "metadata": {},
     "output_type": "display_data"
    }
   ],
   "source": [
    "# random distribution in numpy and plotting using matplotlib\n",
    "mu, sigma = 0, 0.1\n",
    "s = np.random.normal(mu, sigma, 1000)\n",
    "plot(s); show()\n",
    "plt.hist(s)"
   ]
  },
  {
   "cell_type": "code",
   "execution_count": 25,
   "metadata": {},
   "outputs": [],
   "source": [
    "class Bandit:\n",
    "    def __init__(self, k, steps, e, stationary, step_size): # k: number of arms\n",
    "        self.k = k\n",
    "        self.steps = steps\n",
    "        self.e = e\n",
    "        self.stationary = stationary\n",
    "        self.step_size = step_size # needed only for weighted rewards solution\n",
    "        \n",
    "        self.average_reward = 0\n",
    "        self.cum_avg_reward = np.zeros(steps)    \n",
    "        \n",
    "    def generate_problem(self):\n",
    "        self.q_values = np.random.normal(0, 1, size=self.k) # Generate the action values q*(a) for a given problem, with mean as 0, and variance as 1\n",
    "        \n",
    "    def generate_reward(self, action):\n",
    "        if not self.stationary:\n",
    "            self.q_values += np.random.normal(0, 0.01, size=self.k) # Generate the q_values again, for a non stationary problem, whenever we ask for a reward\n",
    "        return np.random.normal(self.q_values[action], 1) # For a given action A_t the actual reward R_t is a normal distribution with mean q*(A_t) and variance 1\n",
    "    \n",
    "    def e_greedy_solution(self, weighted_solution, problem_count):\n",
    "        self.Q = {i: 0 for i in range(self.k)} # Store the Q values for the action \n",
    "        self.N = {i: 0 for i in range(self.k)} # Store the number of times that action happened\n",
    "        \n",
    "        for i in range(self.steps):\n",
    "            explore = np.random.random() < self.e\n",
    "            if (explore):\n",
    "                action = np.random.randint(0, self.k) # Choose a random action \n",
    "            else:\n",
    "                action = max(self.Q, key=self.Q.get) # Chose the action with maximum reward\n",
    "\n",
    "            reward = self.generate_reward(action) # Get the reward for the current action\n",
    "            self.average_reward += (reward - self.average_reward)/(i+1)\n",
    "            self.cum_avg_reward[i] += (self.average_reward - self.cum_avg_reward[i])/(problem_count+1)\n",
    "            self.N[action] += 1 # update the count number for that action \n",
    "            if not weighted_solution:\n",
    "                self.Q[action] += (1 / self.N[action]) * (reward - self.Q[action]) # Update the Q for that particular action        \n",
    "            else:\n",
    "                self.Q[action] += self.step_size*(reward - self.Q[action]) # Update the Q for that particular action and multiply by a constant step size instead of using 1/n\n",
    "                \n",
    "    def e_greedy_solution_optimistic(self, weighted_solution, problem_count):\n",
    "            self.Q = {i: 5 for i in range(self.k)} # Store the Q values for the action \n",
    "            self.N = {i: 0 for i in range(self.k)} # Store the number of times that action happened\n",
    "\n",
    "            for i in range(self.steps):\n",
    "                explore = np.random.random() < self.e\n",
    "                if (explore):\n",
    "                    action = np.random.randint(0, self.k) # Choose a random action \n",
    "                else:\n",
    "                    action = max(self.Q, key=self.Q.get) # Chose the action with maximum reward\n",
    "\n",
    "                reward = self.generate_reward(action) # Get the reward for the current action\n",
    "                self.average_reward += (reward - self.average_reward)/(i+1)\n",
    "                self.cum_avg_reward[i] += (self.average_reward - self.cum_avg_reward[i])/(problem_count+1)\n",
    "                self.N[action] += 1 # update the count number for that action \n",
    "                if not weighted_solution:\n",
    "                    self.Q[action] += (1 / self.N[action]) * (reward - self.Q[action]) # Update the Q for that particular action        \n",
    "                else:\n",
    "                    self.Q[action] += self.step_size*(reward - self.Q[action]) # Update the Q for that particular action and multiply by a constant step size instead of using 1/n                "
   ]
  },
  {
   "cell_type": "code",
   "execution_count": null,
   "metadata": {},
   "outputs": [],
   "source": [
    "k = 10 # no. of arms\n",
    "steps = 3000 # no. of steps in each problem\n",
    "e_values = [0.0, 0.01, 0.1, 0.2, 0.5, 1] # e values\n",
    "step_size = [0.01, 0.1, 0.2] # step size values for average rewards solution\n",
    "problem_count = 100 # total number of problems \n",
    "stationary = False # non-stationary\n",
    "weighted_solution = False # default weighted solution is False\n",
    "\n",
    "for e in e_values:\n",
    "    b = Bandit(k, steps, e, stationary=True, step_size=0.2) # make stationary true, use arbitrary step _size\n",
    "    for j in range(problem_count):\n",
    "        b.generate_problem()\n",
    "        b.e_greedy_solution(weighted_solution, problem_count=j)\n",
    "    plot(b.cum_avg_reward, label=e)\n",
    "    legend(loc='best')\n",
    "    title(\"e-greedy solution for stationary\")\n",
    "show()\n",
    "\n",
    "for e in e_values:\n",
    "    b = Bandit(k, steps, e, stationary=True, step_size=0.2) # make stationary true, use arbitrary step _size\n",
    "    for j in range(problem_count):\n",
    "        b.generate_problem()\n",
    "        b.e_greedy_solution_optimistic(weighted_solution, problem_count=j)\n",
    "    plot(b.cum_avg_reward, label=e)\n",
    "    legend(loc='best')\n",
    "    title(\"e-greedy_optimisitc solution for stationary\")\n",
    "show()\n",
    "\n",
    "for e in e_values:\n",
    "    b = Bandit(k, steps, e, stationary, step_size=0.2) \n",
    "    for j in range(problem_count):\n",
    "        b.generate_problem()\n",
    "        b.e_greedy_solution(weighted_solution, problem_count=j)\n",
    "    plot(b.cum_avg_reward, label=e)\n",
    "    legend(loc='best')\n",
    "    title(\"e-greedy solution for non-stationary\")\n",
    "show()    \n",
    "\n",
    "step_size = [0.01, 0.1, 0.2, 0.5]\n",
    "for s in step_size:\n",
    "    b = Bandit(k, steps=9000, e=0.1, stationary=stationary, step_size=s) # use e as 1\n",
    "    for j in range(10):\n",
    "        b.generate_problem()\n",
    "        b.e_greedy_solution(weighted_solution=True, problem_count=j) # weighted rewards solution\n",
    "    plot(b.cum_avg_reward, label=s)\n",
    "    legend(loc='best')\n",
    "    title(\"Weighted rewards solution for non-stationary\")\n",
    "    "
   ]
  },
  {
   "cell_type": "code",
   "execution_count": null,
   "metadata": {},
   "outputs": [],
   "source": []
  }
 ],
 "metadata": {
  "kernelspec": {
   "display_name": "Python 3",
   "language": "python",
   "name": "python3"
  },
  "language_info": {
   "codemirror_mode": {
    "name": "ipython",
    "version": 3
   },
   "file_extension": ".py",
   "mimetype": "text/x-python",
   "name": "python",
   "nbconvert_exporter": "python",
   "pygments_lexer": "ipython3",
   "version": "3.6.5"
  }
 },
 "nbformat": 4,
 "nbformat_minor": 2
}
